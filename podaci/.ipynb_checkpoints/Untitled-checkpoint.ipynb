{
 "cells": [
  {
   "cell_type": "markdown",
   "id": "539b1d28",
   "metadata": {},
   "source": [
    "# Psihološki efekti KOVID-a\n",
    "\n",
    "Koronavirusna bolest 2019 (engl. Coronavirus disease 2019), prepoznatljiva pod skraćenicom kovid 19 ili COVID-19, zarazna je bolest uzrokovana teškim akutnim respiratornim sindromom virus korona 2 (SARS-CoV-2). Bolest se od 2019. proširila na ceo svet što je dovelo do pandemije virusa korona 2019/20.\n",
    "Pandemija je ostavila snažan pečat na svakodnevni život ljudi već više od dve godine. Medju mnogim posledicama pandemije nalaze se i psihološke, koje su doprinele masovnim pojavama anksioznosti i depresije. \n",
    "\n",
    "Skup podataka je preuzet sa: https://www.kaggle.com/datasets/hemanthhari/psycological-effects-of-covid. \n",
    "Podaci su prikupljeni 2020. godine u cilju razumevanja mišljenja ljudi o \"zaključavanju\" i koliko je to uticalo na njihovu promenu načina života."
   ]
  },
  {
   "cell_type": "code",
   "execution_count": 1,
   "id": "ab384830",
   "metadata": {},
   "outputs": [],
   "source": [
    "import pandas as pd\n",
    "import numpy as np\n",
    "import matplotlib.pyplot as plt\n",
    "import seaborn as sns"
   ]
  },
  {
   "cell_type": "markdown",
   "id": "15ec051d",
   "metadata": {},
   "source": [
    "### Učitavanje skupa podataka"
   ]
  },
  {
   "cell_type": "code",
   "execution_count": 2,
   "id": "e7ae785b",
   "metadata": {},
   "outputs": [
    {
     "data": {
      "text/html": [
       "<div>\n",
       "<style scoped>\n",
       "    .dataframe tbody tr th:only-of-type {\n",
       "        vertical-align: middle;\n",
       "    }\n",
       "\n",
       "    .dataframe tbody tr th {\n",
       "        vertical-align: top;\n",
       "    }\n",
       "\n",
       "    .dataframe thead th {\n",
       "        text-align: right;\n",
       "    }\n",
       "</style>\n",
       "<table border=\"1\" class=\"dataframe\">\n",
       "  <thead>\n",
       "    <tr style=\"text-align: right;\">\n",
       "      <th></th>\n",
       "      <th>age</th>\n",
       "      <th>gender</th>\n",
       "      <th>occupation</th>\n",
       "      <th>line_of_work</th>\n",
       "      <th>time_bp</th>\n",
       "      <th>time_dp</th>\n",
       "      <th>travel_time</th>\n",
       "      <th>easeof_online</th>\n",
       "      <th>home_env</th>\n",
       "      <th>prod_inc</th>\n",
       "      <th>...</th>\n",
       "      <th>fam_connect</th>\n",
       "      <th>relaxed</th>\n",
       "      <th>self_time</th>\n",
       "      <th>like_hw</th>\n",
       "      <th>dislike_hw</th>\n",
       "      <th>prefer</th>\n",
       "      <th>certaindays_hw</th>\n",
       "      <th>Unnamed: 19</th>\n",
       "      <th>time_bp.1</th>\n",
       "      <th>travel+work</th>\n",
       "    </tr>\n",
       "  </thead>\n",
       "  <tbody>\n",
       "    <tr>\n",
       "      <th>0</th>\n",
       "      <td>19-25</td>\n",
       "      <td>Male</td>\n",
       "      <td>Student in College</td>\n",
       "      <td>NaN</td>\n",
       "      <td>7</td>\n",
       "      <td>5</td>\n",
       "      <td>0.5</td>\n",
       "      <td>3</td>\n",
       "      <td>3</td>\n",
       "      <td>0.0</td>\n",
       "      <td>...</td>\n",
       "      <td>1.0</td>\n",
       "      <td>-0.5</td>\n",
       "      <td>-0.5</td>\n",
       "      <td>100</td>\n",
       "      <td>1</td>\n",
       "      <td>Complete Physical Attendance</td>\n",
       "      <td>Yes</td>\n",
       "      <td>NaN</td>\n",
       "      <td>7</td>\n",
       "      <td>NaN</td>\n",
       "    </tr>\n",
       "    <tr>\n",
       "      <th>1</th>\n",
       "      <td>Dec-18</td>\n",
       "      <td>Male</td>\n",
       "      <td>Student in School</td>\n",
       "      <td>NaN</td>\n",
       "      <td>7</td>\n",
       "      <td>11</td>\n",
       "      <td>0.5</td>\n",
       "      <td>4</td>\n",
       "      <td>2</td>\n",
       "      <td>-0.5</td>\n",
       "      <td>...</td>\n",
       "      <td>1.0</td>\n",
       "      <td>1.0</td>\n",
       "      <td>1.0</td>\n",
       "      <td>1111</td>\n",
       "      <td>1110</td>\n",
       "      <td>Complete Physical Attendance</td>\n",
       "      <td>No</td>\n",
       "      <td>NaN</td>\n",
       "      <td>7</td>\n",
       "      <td>NaN</td>\n",
       "    </tr>\n",
       "    <tr>\n",
       "      <th>2</th>\n",
       "      <td>19-25</td>\n",
       "      <td>Male</td>\n",
       "      <td>Student in College</td>\n",
       "      <td>NaN</td>\n",
       "      <td>7</td>\n",
       "      <td>7</td>\n",
       "      <td>1.5</td>\n",
       "      <td>2</td>\n",
       "      <td>2</td>\n",
       "      <td>1.0</td>\n",
       "      <td>...</td>\n",
       "      <td>0.5</td>\n",
       "      <td>0.5</td>\n",
       "      <td>0.5</td>\n",
       "      <td>1100</td>\n",
       "      <td>111</td>\n",
       "      <td>Complete Physical Attendance</td>\n",
       "      <td>Yes</td>\n",
       "      <td>NaN</td>\n",
       "      <td>7</td>\n",
       "      <td>NaN</td>\n",
       "    </tr>\n",
       "    <tr>\n",
       "      <th>3</th>\n",
       "      <td>19-25</td>\n",
       "      <td>Male</td>\n",
       "      <td>Student in College</td>\n",
       "      <td>NaN</td>\n",
       "      <td>7</td>\n",
       "      <td>7</td>\n",
       "      <td>1.5</td>\n",
       "      <td>3</td>\n",
       "      <td>1</td>\n",
       "      <td>0.0</td>\n",
       "      <td>...</td>\n",
       "      <td>0.0</td>\n",
       "      <td>-1.0</td>\n",
       "      <td>-0.5</td>\n",
       "      <td>100</td>\n",
       "      <td>1111</td>\n",
       "      <td>Complete Physical Attendance</td>\n",
       "      <td>Yes</td>\n",
       "      <td>NaN</td>\n",
       "      <td>7</td>\n",
       "      <td>NaN</td>\n",
       "    </tr>\n",
       "    <tr>\n",
       "      <th>4</th>\n",
       "      <td>19-25</td>\n",
       "      <td>Female</td>\n",
       "      <td>Student in College</td>\n",
       "      <td>NaN</td>\n",
       "      <td>7</td>\n",
       "      <td>7</td>\n",
       "      <td>1.5</td>\n",
       "      <td>2</td>\n",
       "      <td>2</td>\n",
       "      <td>0.0</td>\n",
       "      <td>...</td>\n",
       "      <td>0.0</td>\n",
       "      <td>0.5</td>\n",
       "      <td>0.0</td>\n",
       "      <td>1010</td>\n",
       "      <td>1000</td>\n",
       "      <td>Complete Physical Attendance</td>\n",
       "      <td>Yes</td>\n",
       "      <td>NaN</td>\n",
       "      <td>7</td>\n",
       "      <td>NaN</td>\n",
       "    </tr>\n",
       "  </tbody>\n",
       "</table>\n",
       "<p>5 rows × 22 columns</p>\n",
       "</div>"
      ],
      "text/plain": [
       "      age  gender          occupation line_of_work  time_bp  time_dp   \n",
       "0   19-25    Male  Student in College          NaN        7        5  \\\n",
       "1  Dec-18    Male   Student in School          NaN        7       11   \n",
       "2   19-25    Male  Student in College          NaN        7        7   \n",
       "3   19-25    Male  Student in College          NaN        7        7   \n",
       "4   19-25  Female  Student in College          NaN        7        7   \n",
       "\n",
       "   travel_time  easeof_online  home_env  prod_inc  ...  fam_connect  relaxed   \n",
       "0          0.5              3         3       0.0  ...          1.0     -0.5  \\\n",
       "1          0.5              4         2      -0.5  ...          1.0      1.0   \n",
       "2          1.5              2         2       1.0  ...          0.5      0.5   \n",
       "3          1.5              3         1       0.0  ...          0.0     -1.0   \n",
       "4          1.5              2         2       0.0  ...          0.0      0.5   \n",
       "\n",
       "   self_time  like_hw  dislike_hw                        prefer   \n",
       "0       -0.5      100           1  Complete Physical Attendance  \\\n",
       "1        1.0     1111        1110  Complete Physical Attendance   \n",
       "2        0.5     1100         111  Complete Physical Attendance   \n",
       "3       -0.5      100        1111  Complete Physical Attendance   \n",
       "4        0.0     1010        1000  Complete Physical Attendance   \n",
       "\n",
       "   certaindays_hw Unnamed: 19 time_bp.1  travel+work  \n",
       "0             Yes         NaN         7          NaN  \n",
       "1              No         NaN         7          NaN  \n",
       "2             Yes         NaN         7          NaN  \n",
       "3             Yes         NaN         7          NaN  \n",
       "4             Yes         NaN         7          NaN  \n",
       "\n",
       "[5 rows x 22 columns]"
      ]
     },
     "execution_count": 2,
     "metadata": {},
     "output_type": "execute_result"
    }
   ],
   "source": [
    "data = pd.read_csv('psyco.csv')\n",
    "data.head()"
   ]
  },
  {
   "cell_type": "code",
   "execution_count": 3,
   "id": "370d2bd2",
   "metadata": {},
   "outputs": [
    {
     "name": "stdout",
     "output_type": "stream",
     "text": [
      "<class 'pandas.core.frame.DataFrame'>\n",
      "RangeIndex: 1175 entries, 0 to 1174\n",
      "Data columns (total 22 columns):\n",
      " #   Column          Non-Null Count  Dtype  \n",
      "---  ------          --------------  -----  \n",
      " 0   age             1175 non-null   object \n",
      " 1   gender          1175 non-null   object \n",
      " 2   occupation      1175 non-null   object \n",
      " 3   line_of_work    479 non-null    object \n",
      " 4   time_bp         1175 non-null   int64  \n",
      " 5   time_dp         1175 non-null   int64  \n",
      " 6   travel_time     1175 non-null   float64\n",
      " 7   easeof_online   1175 non-null   int64  \n",
      " 8   home_env        1175 non-null   int64  \n",
      " 9   prod_inc        1175 non-null   float64\n",
      " 10  sleep_bal       1175 non-null   float64\n",
      " 11  new_skill       1175 non-null   float64\n",
      " 12  fam_connect     1175 non-null   float64\n",
      " 13  relaxed         1175 non-null   float64\n",
      " 14  self_time       1175 non-null   float64\n",
      " 15  like_hw         1175 non-null   int64  \n",
      " 16  dislike_hw      1175 non-null   int64  \n",
      " 17  prefer          1175 non-null   object \n",
      " 18  certaindays_hw  1175 non-null   object \n",
      " 19  Unnamed: 19     0 non-null      float64\n",
      " 20  time_bp.1       1175 non-null   int64  \n",
      " 21  travel+work     0 non-null      float64\n",
      "dtypes: float64(9), int64(7), object(6)\n",
      "memory usage: 202.1+ KB\n"
     ]
    }
   ],
   "source": [
    "data.info()"
   ]
  },
  {
   "cell_type": "markdown",
   "id": "19500e7f",
   "metadata": {},
   "source": [
    "### Brisanje nepotrebnih kolona\n",
    "\"Please note that all the custom columns can be ignored.\"\n",
    "* Unnamed: 19  -  Custom Column\n",
    "* time_bp.1    -  Custom Column      \n",
    "* travel+work  -  Custom Column  "
   ]
  },
  {
   "cell_type": "code",
   "execution_count": 4,
   "id": "a4a3c55d",
   "metadata": {},
   "outputs": [
    {
     "name": "stdout",
     "output_type": "stream",
     "text": [
      "<class 'pandas.core.frame.DataFrame'>\n",
      "RangeIndex: 1175 entries, 0 to 1174\n",
      "Data columns (total 19 columns):\n",
      " #   Column          Non-Null Count  Dtype  \n",
      "---  ------          --------------  -----  \n",
      " 0   age             1175 non-null   object \n",
      " 1   gender          1175 non-null   object \n",
      " 2   occupation      1175 non-null   object \n",
      " 3   line_of_work    479 non-null    object \n",
      " 4   time_bp         1175 non-null   int64  \n",
      " 5   time_dp         1175 non-null   int64  \n",
      " 6   travel_time     1175 non-null   float64\n",
      " 7   easeof_online   1175 non-null   int64  \n",
      " 8   home_env        1175 non-null   int64  \n",
      " 9   prod_inc        1175 non-null   float64\n",
      " 10  sleep_bal       1175 non-null   float64\n",
      " 11  new_skill       1175 non-null   float64\n",
      " 12  fam_connect     1175 non-null   float64\n",
      " 13  relaxed         1175 non-null   float64\n",
      " 14  self_time       1175 non-null   float64\n",
      " 15  like_hw         1175 non-null   int64  \n",
      " 16  dislike_hw      1175 non-null   int64  \n",
      " 17  prefer          1175 non-null   object \n",
      " 18  certaindays_hw  1175 non-null   object \n",
      "dtypes: float64(7), int64(6), object(6)\n",
      "memory usage: 174.5+ KB\n"
     ]
    }
   ],
   "source": [
    "data.drop(['Unnamed: 19', 'time_bp.1', 'travel+work'], inplace = True, axis = 1)\n",
    "data.info()"
   ]
  },
  {
   "cell_type": "markdown",
   "id": "1d084538",
   "metadata": {},
   "source": [
    "### Nedostajuće vrednosti"
   ]
  },
  {
   "cell_type": "code",
   "execution_count": 5,
   "id": "47c41bfa",
   "metadata": {},
   "outputs": [
    {
     "data": {
      "text/plain": [
       "age                 0\n",
       "gender              0\n",
       "occupation          0\n",
       "line_of_work      696\n",
       "time_bp             0\n",
       "time_dp             0\n",
       "travel_time         0\n",
       "easeof_online       0\n",
       "home_env            0\n",
       "prod_inc            0\n",
       "sleep_bal           0\n",
       "new_skill           0\n",
       "fam_connect         0\n",
       "relaxed             0\n",
       "self_time           0\n",
       "like_hw             0\n",
       "dislike_hw          0\n",
       "prefer              0\n",
       "certaindays_hw      0\n",
       "dtype: int64"
      ]
     },
     "execution_count": 5,
     "metadata": {},
     "output_type": "execute_result"
    }
   ],
   "source": [
    "data.isna().sum()"
   ]
  },
  {
   "cell_type": "markdown",
   "id": "ab356d54",
   "metadata": {},
   "source": [
    "izbacivanje nedostajućih vrednosti"
   ]
  },
  {
   "cell_type": "code",
   "execution_count": 6,
   "id": "c1774a8d",
   "metadata": {},
   "outputs": [
    {
     "data": {
      "text/plain": [
       "age               0\n",
       "gender            0\n",
       "occupation        0\n",
       "time_bp           0\n",
       "time_dp           0\n",
       "travel_time       0\n",
       "easeof_online     0\n",
       "home_env          0\n",
       "prod_inc          0\n",
       "sleep_bal         0\n",
       "new_skill         0\n",
       "fam_connect       0\n",
       "relaxed           0\n",
       "self_time         0\n",
       "like_hw           0\n",
       "dislike_hw        0\n",
       "prefer            0\n",
       "certaindays_hw    0\n",
       "dtype: int64"
      ]
     },
     "execution_count": 6,
     "metadata": {},
     "output_type": "execute_result"
    }
   ],
   "source": [
    "data.drop(['line_of_work'], axis = 1, inplace = True)\n",
    "data.isna().sum()"
   ]
  },
  {
   "cell_type": "markdown",
   "id": "593cca35",
   "metadata": {},
   "source": [
    "## Statistička analiza"
   ]
  },
  {
   "cell_type": "code",
   "execution_count": 7,
   "id": "a22b4a35",
   "metadata": {},
   "outputs": [
    {
     "data": {
      "text/plain": [
       "(1175, 18)"
      ]
     },
     "execution_count": 7,
     "metadata": {},
     "output_type": "execute_result"
    }
   ],
   "source": [
    "data.shape"
   ]
  },
  {
   "cell_type": "code",
   "execution_count": 8,
   "id": "e67a84e2",
   "metadata": {
    "scrolled": false
   },
   "outputs": [
    {
     "data": {
      "text/html": [
       "<div>\n",
       "<style scoped>\n",
       "    .dataframe tbody tr th:only-of-type {\n",
       "        vertical-align: middle;\n",
       "    }\n",
       "\n",
       "    .dataframe tbody tr th {\n",
       "        vertical-align: top;\n",
       "    }\n",
       "\n",
       "    .dataframe thead th {\n",
       "        text-align: right;\n",
       "    }\n",
       "</style>\n",
       "<table border=\"1\" class=\"dataframe\">\n",
       "  <thead>\n",
       "    <tr style=\"text-align: right;\">\n",
       "      <th></th>\n",
       "      <th>age</th>\n",
       "      <th>gender</th>\n",
       "      <th>occupation</th>\n",
       "      <th>time_bp</th>\n",
       "      <th>time_dp</th>\n",
       "      <th>travel_time</th>\n",
       "      <th>easeof_online</th>\n",
       "      <th>home_env</th>\n",
       "      <th>prod_inc</th>\n",
       "      <th>sleep_bal</th>\n",
       "      <th>new_skill</th>\n",
       "      <th>fam_connect</th>\n",
       "      <th>relaxed</th>\n",
       "      <th>self_time</th>\n",
       "      <th>like_hw</th>\n",
       "      <th>dislike_hw</th>\n",
       "      <th>prefer</th>\n",
       "      <th>certaindays_hw</th>\n",
       "    </tr>\n",
       "  </thead>\n",
       "  <tbody>\n",
       "    <tr>\n",
       "      <th>0</th>\n",
       "      <td>19-25</td>\n",
       "      <td>Male</td>\n",
       "      <td>Student in College</td>\n",
       "      <td>7</td>\n",
       "      <td>5</td>\n",
       "      <td>0.5</td>\n",
       "      <td>3</td>\n",
       "      <td>3</td>\n",
       "      <td>0.0</td>\n",
       "      <td>0.0</td>\n",
       "      <td>0.5</td>\n",
       "      <td>1.0</td>\n",
       "      <td>-0.5</td>\n",
       "      <td>-0.5</td>\n",
       "      <td>100</td>\n",
       "      <td>1</td>\n",
       "      <td>Complete Physical Attendance</td>\n",
       "      <td>Yes</td>\n",
       "    </tr>\n",
       "    <tr>\n",
       "      <th>1</th>\n",
       "      <td>Dec-18</td>\n",
       "      <td>Male</td>\n",
       "      <td>Student in School</td>\n",
       "      <td>7</td>\n",
       "      <td>11</td>\n",
       "      <td>0.5</td>\n",
       "      <td>4</td>\n",
       "      <td>2</td>\n",
       "      <td>-0.5</td>\n",
       "      <td>0.5</td>\n",
       "      <td>-1.0</td>\n",
       "      <td>1.0</td>\n",
       "      <td>1.0</td>\n",
       "      <td>1.0</td>\n",
       "      <td>1111</td>\n",
       "      <td>1110</td>\n",
       "      <td>Complete Physical Attendance</td>\n",
       "      <td>No</td>\n",
       "    </tr>\n",
       "    <tr>\n",
       "      <th>2</th>\n",
       "      <td>19-25</td>\n",
       "      <td>Male</td>\n",
       "      <td>Student in College</td>\n",
       "      <td>7</td>\n",
       "      <td>7</td>\n",
       "      <td>1.5</td>\n",
       "      <td>2</td>\n",
       "      <td>2</td>\n",
       "      <td>1.0</td>\n",
       "      <td>0.0</td>\n",
       "      <td>0.5</td>\n",
       "      <td>0.5</td>\n",
       "      <td>0.5</td>\n",
       "      <td>0.5</td>\n",
       "      <td>1100</td>\n",
       "      <td>111</td>\n",
       "      <td>Complete Physical Attendance</td>\n",
       "      <td>Yes</td>\n",
       "    </tr>\n",
       "    <tr>\n",
       "      <th>3</th>\n",
       "      <td>19-25</td>\n",
       "      <td>Male</td>\n",
       "      <td>Student in College</td>\n",
       "      <td>7</td>\n",
       "      <td>7</td>\n",
       "      <td>1.5</td>\n",
       "      <td>3</td>\n",
       "      <td>1</td>\n",
       "      <td>0.0</td>\n",
       "      <td>1.0</td>\n",
       "      <td>0.5</td>\n",
       "      <td>0.0</td>\n",
       "      <td>-1.0</td>\n",
       "      <td>-0.5</td>\n",
       "      <td>100</td>\n",
       "      <td>1111</td>\n",
       "      <td>Complete Physical Attendance</td>\n",
       "      <td>Yes</td>\n",
       "    </tr>\n",
       "    <tr>\n",
       "      <th>4</th>\n",
       "      <td>19-25</td>\n",
       "      <td>Female</td>\n",
       "      <td>Student in College</td>\n",
       "      <td>7</td>\n",
       "      <td>7</td>\n",
       "      <td>1.5</td>\n",
       "      <td>2</td>\n",
       "      <td>2</td>\n",
       "      <td>0.0</td>\n",
       "      <td>0.0</td>\n",
       "      <td>0.0</td>\n",
       "      <td>0.0</td>\n",
       "      <td>0.5</td>\n",
       "      <td>0.0</td>\n",
       "      <td>1010</td>\n",
       "      <td>1000</td>\n",
       "      <td>Complete Physical Attendance</td>\n",
       "      <td>Yes</td>\n",
       "    </tr>\n",
       "  </tbody>\n",
       "</table>\n",
       "</div>"
      ],
      "text/plain": [
       "      age  gender          occupation  time_bp  time_dp  travel_time   \n",
       "0   19-25    Male  Student in College        7        5          0.5  \\\n",
       "1  Dec-18    Male   Student in School        7       11          0.5   \n",
       "2   19-25    Male  Student in College        7        7          1.5   \n",
       "3   19-25    Male  Student in College        7        7          1.5   \n",
       "4   19-25  Female  Student in College        7        7          1.5   \n",
       "\n",
       "   easeof_online  home_env  prod_inc  sleep_bal  new_skill  fam_connect   \n",
       "0              3         3       0.0        0.0        0.5          1.0  \\\n",
       "1              4         2      -0.5        0.5       -1.0          1.0   \n",
       "2              2         2       1.0        0.0        0.5          0.5   \n",
       "3              3         1       0.0        1.0        0.5          0.0   \n",
       "4              2         2       0.0        0.0        0.0          0.0   \n",
       "\n",
       "   relaxed  self_time  like_hw  dislike_hw                        prefer   \n",
       "0     -0.5       -0.5      100           1  Complete Physical Attendance  \\\n",
       "1      1.0        1.0     1111        1110  Complete Physical Attendance   \n",
       "2      0.5        0.5     1100         111  Complete Physical Attendance   \n",
       "3     -1.0       -0.5      100        1111  Complete Physical Attendance   \n",
       "4      0.5        0.0     1010        1000  Complete Physical Attendance   \n",
       "\n",
       "  certaindays_hw  \n",
       "0            Yes  \n",
       "1             No  \n",
       "2            Yes  \n",
       "3            Yes  \n",
       "4            Yes  "
      ]
     },
     "execution_count": 8,
     "metadata": {},
     "output_type": "execute_result"
    }
   ],
   "source": [
    "data.head()"
   ]
  },
  {
   "cell_type": "code",
   "execution_count": 9,
   "id": "994ef510",
   "metadata": {},
   "outputs": [
    {
     "data": {
      "text/plain": [
       "array(['19-25', 'Dec-18', '33-40', '60+', '26-32', '40-50', '50-60'],\n",
       "      dtype=object)"
      ]
     },
     "execution_count": 9,
     "metadata": {},
     "output_type": "execute_result"
    }
   ],
   "source": [
    "data.age.unique()"
   ]
  },
  {
   "cell_type": "markdown",
   "id": "8b4300e9",
   "metadata": {},
   "source": [
    "potrebno je zameniti vrednost 'Dec-18' sa '12-18'"
   ]
  },
  {
   "cell_type": "code",
   "execution_count": 10,
   "id": "41f53f6d",
   "metadata": {},
   "outputs": [],
   "source": [
    "data['age'].replace('Dec-18', '12-18', inplace = True)"
   ]
  },
  {
   "cell_type": "markdown",
   "id": "d6e92524",
   "metadata": {},
   "source": [
    "opisna statistika"
   ]
  },
  {
   "cell_type": "code",
   "execution_count": 11,
   "id": "c2d7d31c",
   "metadata": {},
   "outputs": [
    {
     "data": {
      "text/html": [
       "<div>\n",
       "<style scoped>\n",
       "    .dataframe tbody tr th:only-of-type {\n",
       "        vertical-align: middle;\n",
       "    }\n",
       "\n",
       "    .dataframe tbody tr th {\n",
       "        vertical-align: top;\n",
       "    }\n",
       "\n",
       "    .dataframe thead th {\n",
       "        text-align: right;\n",
       "    }\n",
       "</style>\n",
       "<table border=\"1\" class=\"dataframe\">\n",
       "  <thead>\n",
       "    <tr style=\"text-align: right;\">\n",
       "      <th></th>\n",
       "      <th>time_bp</th>\n",
       "      <th>time_dp</th>\n",
       "      <th>travel_time</th>\n",
       "      <th>easeof_online</th>\n",
       "      <th>home_env</th>\n",
       "      <th>prod_inc</th>\n",
       "      <th>sleep_bal</th>\n",
       "      <th>new_skill</th>\n",
       "      <th>fam_connect</th>\n",
       "      <th>relaxed</th>\n",
       "      <th>self_time</th>\n",
       "      <th>like_hw</th>\n",
       "      <th>dislike_hw</th>\n",
       "    </tr>\n",
       "  </thead>\n",
       "  <tbody>\n",
       "    <tr>\n",
       "      <th>count</th>\n",
       "      <td>1175.000000</td>\n",
       "      <td>1175.000000</td>\n",
       "      <td>1175.000000</td>\n",
       "      <td>1175.000000</td>\n",
       "      <td>1175.000000</td>\n",
       "      <td>1175.000000</td>\n",
       "      <td>1175.000000</td>\n",
       "      <td>1175.000000</td>\n",
       "      <td>1175.000000</td>\n",
       "      <td>1175.000000</td>\n",
       "      <td>1175.000000</td>\n",
       "      <td>1175.000000</td>\n",
       "      <td>1175.000000</td>\n",
       "    </tr>\n",
       "    <tr>\n",
       "      <th>mean</th>\n",
       "      <td>7.415319</td>\n",
       "      <td>7.971915</td>\n",
       "      <td>1.027660</td>\n",
       "      <td>2.533617</td>\n",
       "      <td>2.752340</td>\n",
       "      <td>0.008936</td>\n",
       "      <td>-0.108936</td>\n",
       "      <td>0.146809</td>\n",
       "      <td>0.260426</td>\n",
       "      <td>0.035745</td>\n",
       "      <td>0.082979</td>\n",
       "      <td>734.840851</td>\n",
       "      <td>651.067234</td>\n",
       "    </tr>\n",
       "    <tr>\n",
       "      <th>std</th>\n",
       "      <td>2.005385</td>\n",
       "      <td>2.657007</td>\n",
       "      <td>0.713314</td>\n",
       "      <td>1.267609</td>\n",
       "      <td>1.235799</td>\n",
       "      <td>0.615083</td>\n",
       "      <td>0.621215</td>\n",
       "      <td>0.643686</td>\n",
       "      <td>0.686825</td>\n",
       "      <td>0.626637</td>\n",
       "      <td>0.541434</td>\n",
       "      <td>468.000935</td>\n",
       "      <td>502.319310</td>\n",
       "    </tr>\n",
       "    <tr>\n",
       "      <th>min</th>\n",
       "      <td>4.000000</td>\n",
       "      <td>4.000000</td>\n",
       "      <td>0.500000</td>\n",
       "      <td>1.000000</td>\n",
       "      <td>1.000000</td>\n",
       "      <td>-1.000000</td>\n",
       "      <td>-1.000000</td>\n",
       "      <td>-1.000000</td>\n",
       "      <td>-1.000000</td>\n",
       "      <td>-1.000000</td>\n",
       "      <td>-1.000000</td>\n",
       "      <td>1.000000</td>\n",
       "      <td>1.000000</td>\n",
       "    </tr>\n",
       "    <tr>\n",
       "      <th>25%</th>\n",
       "      <td>5.000000</td>\n",
       "      <td>5.000000</td>\n",
       "      <td>0.500000</td>\n",
       "      <td>1.000000</td>\n",
       "      <td>2.000000</td>\n",
       "      <td>-0.500000</td>\n",
       "      <td>-0.500000</td>\n",
       "      <td>-0.500000</td>\n",
       "      <td>0.000000</td>\n",
       "      <td>-0.500000</td>\n",
       "      <td>-0.500000</td>\n",
       "      <td>100.000000</td>\n",
       "      <td>101.000000</td>\n",
       "    </tr>\n",
       "    <tr>\n",
       "      <th>50%</th>\n",
       "      <td>7.000000</td>\n",
       "      <td>9.000000</td>\n",
       "      <td>0.500000</td>\n",
       "      <td>2.000000</td>\n",
       "      <td>3.000000</td>\n",
       "      <td>0.000000</td>\n",
       "      <td>0.000000</td>\n",
       "      <td>0.500000</td>\n",
       "      <td>0.500000</td>\n",
       "      <td>0.000000</td>\n",
       "      <td>0.000000</td>\n",
       "      <td>1001.000000</td>\n",
       "      <td>1000.000000</td>\n",
       "    </tr>\n",
       "    <tr>\n",
       "      <th>75%</th>\n",
       "      <td>9.000000</td>\n",
       "      <td>9.000000</td>\n",
       "      <td>1.500000</td>\n",
       "      <td>4.000000</td>\n",
       "      <td>4.000000</td>\n",
       "      <td>0.500000</td>\n",
       "      <td>0.500000</td>\n",
       "      <td>0.500000</td>\n",
       "      <td>1.000000</td>\n",
       "      <td>0.500000</td>\n",
       "      <td>0.500000</td>\n",
       "      <td>1100.000000</td>\n",
       "      <td>1101.000000</td>\n",
       "    </tr>\n",
       "    <tr>\n",
       "      <th>max</th>\n",
       "      <td>12.000000</td>\n",
       "      <td>12.000000</td>\n",
       "      <td>3.000000</td>\n",
       "      <td>5.000000</td>\n",
       "      <td>5.000000</td>\n",
       "      <td>1.000000</td>\n",
       "      <td>1.000000</td>\n",
       "      <td>1.000000</td>\n",
       "      <td>1.000000</td>\n",
       "      <td>1.000000</td>\n",
       "      <td>1.000000</td>\n",
       "      <td>1111.000000</td>\n",
       "      <td>1111.000000</td>\n",
       "    </tr>\n",
       "  </tbody>\n",
       "</table>\n",
       "</div>"
      ],
      "text/plain": [
       "           time_bp      time_dp  travel_time  easeof_online     home_env   \n",
       "count  1175.000000  1175.000000  1175.000000    1175.000000  1175.000000  \\\n",
       "mean      7.415319     7.971915     1.027660       2.533617     2.752340   \n",
       "std       2.005385     2.657007     0.713314       1.267609     1.235799   \n",
       "min       4.000000     4.000000     0.500000       1.000000     1.000000   \n",
       "25%       5.000000     5.000000     0.500000       1.000000     2.000000   \n",
       "50%       7.000000     9.000000     0.500000       2.000000     3.000000   \n",
       "75%       9.000000     9.000000     1.500000       4.000000     4.000000   \n",
       "max      12.000000    12.000000     3.000000       5.000000     5.000000   \n",
       "\n",
       "          prod_inc    sleep_bal    new_skill  fam_connect      relaxed   \n",
       "count  1175.000000  1175.000000  1175.000000  1175.000000  1175.000000  \\\n",
       "mean      0.008936    -0.108936     0.146809     0.260426     0.035745   \n",
       "std       0.615083     0.621215     0.643686     0.686825     0.626637   \n",
       "min      -1.000000    -1.000000    -1.000000    -1.000000    -1.000000   \n",
       "25%      -0.500000    -0.500000    -0.500000     0.000000    -0.500000   \n",
       "50%       0.000000     0.000000     0.500000     0.500000     0.000000   \n",
       "75%       0.500000     0.500000     0.500000     1.000000     0.500000   \n",
       "max       1.000000     1.000000     1.000000     1.000000     1.000000   \n",
       "\n",
       "         self_time      like_hw   dislike_hw  \n",
       "count  1175.000000  1175.000000  1175.000000  \n",
       "mean      0.082979   734.840851   651.067234  \n",
       "std       0.541434   468.000935   502.319310  \n",
       "min      -1.000000     1.000000     1.000000  \n",
       "25%      -0.500000   100.000000   101.000000  \n",
       "50%       0.000000  1001.000000  1000.000000  \n",
       "75%       0.500000  1100.000000  1101.000000  \n",
       "max       1.000000  1111.000000  1111.000000  "
      ]
     },
     "execution_count": 11,
     "metadata": {},
     "output_type": "execute_result"
    }
   ],
   "source": [
    "data.describe()"
   ]
  },
  {
   "cell_type": "markdown",
   "id": "d39d260e",
   "metadata": {},
   "source": [
    "## Vizuelizacija podataka\n",
    "\n",
    "Vizualno predstaviti podatke nam omogućava lakše upoznavanje i razumevanje podataka, njihovih raspodela, lakše identifikovanje obrazaca, korelacija i eventualnih anomalija."
   ]
  },
  {
   "cell_type": "markdown",
   "id": "09869320",
   "metadata": {},
   "source": [
    "### Pol ispitanika"
   ]
  },
  {
   "cell_type": "code",
   "execution_count": 52,
   "id": "11f2a9c4",
   "metadata": {
    "scrolled": false
   },
   "outputs": [
    {
     "data": {
      "image/png": "[encoded data removed]",
      "text/plain": [
       "<Figure size 640x480 with 1 Axes>"
      ]
     },
     "metadata": {},
     "output_type": "display_data"
    }
   ],
   "source": [
    "# kreiranje pie chart-a\n",
    "plt.pie(data['gender'].value_counts(), labels = data['gender'].value_counts().index, autopct = '%1.1f%%', colors = sns.color_palette(\"pastel\"), startangle = 140)\n",
    "plt.title(\"Gender Distribution\")\n",
    "plt.show()"
   ]
  },
  {
   "cell_type": "markdown",
   "id": "f175b4ba",
   "metadata": {},
   "source": [
    "U ovom istraživanju malo više su učestvovali muškarci nego žene."
   ]
  },
  {
   "cell_type": "markdown",
   "id": "40d20cdb",
   "metadata": {},
   "source": [
    "### Zanimanje ispitanika"
   ]
  },
  {
   "cell_type": "code",
   "execution_count": 72,
   "id": "30548c98",
   "metadata": {},
   "outputs": [
    {
     "data": {
      "image/png": "[encoded data removed]",
      "text/plain": [
       "<Figure size 1000x800 with 1 Axes>"
      ]
     },
     "metadata": {},
     "output_type": "display_data"
    }
   ],
   "source": [
    "occupation_counts = data['occupation'].value_counts()\n",
    "\n",
    "# kreiranje bar grafikona\n",
    "plt.figure(figsize = (10, 8))\n",
    "plt.bar(occupation_counts.index, occupation_counts.values, color = sns.color_palette(\"pastel\"))\n",
    "plt.xlabel(\"Occupation\")\n",
    "plt.ylabel(\"Count\")\n",
    "plt.title(\"Occupation Distribution\")\n",
    "\n",
    "# rotiranje etiketa x-ose radi bolje čitljivosti\n",
    "plt.xticks(rotation = 45, ha = \"right\")\n",
    "\n",
    "# dodavanje vrednosti iznad barova\n",
    "for i, count in enumerate(occupation_counts):\n",
    "    plt.text(i, count + 5, str(count), ha = \"center\", va = \"bottom\")\n",
    "\n",
    "plt.tight_layout()\n",
    "plt.show()\n"
   ]
  },
  {
   "cell_type": "code",
   "execution_count": 84,
   "id": "8dfdce54",
   "metadata": {},
   "outputs": [
    {
     "data": {
      "image/png": "[encoded data removed]",
      "text/plain": [
       "<Figure size 1000x600 with 1 Axes>"
      ]
     },
     "metadata": {},
     "output_type": "display_data"
    }
   ],
   "source": [
    "categories = data.time_bp.value_counts().index\n",
    "time_bp_counts = data.time_bp.value_counts().values\n",
    "time_dp_counts = data.time_dp.value_counts().values\n",
    "\n",
    "x = np.arange(len(categories))  # X koordinate za svaku kategoriju\n",
    "width = 0.35  # širina traka\n",
    "\n",
    "# kreiranje grouped bar grafikona\n",
    "fig, gb = plt.subplots(figsize = (10, 6))\n",
    "rects1 = gb.bar(x - width/2, time_bp_counts, width, label = 'time before pandemic', color = sns.color_palette('pastel')[0])\n",
    "rects2 = gb.bar(x + width/2, time_dp_counts, width, label = 'time during pandemic', color = sns.color_palette('pastel')[3])\n",
    "\n",
    "# podešavanje oznaka, naslova i legende\n",
    "gb.set_ylabel('Count')\n",
    "gb.set_xlabel('time (hours)')\n",
    "gb.set_title('Comparison of time spent on work before pandemic and during pandemic')\n",
    "gb.set_xticks(x)\n",
    "gb.set_xticklabels(categories)\n",
    "gb.legend()\n",
    "\n",
    "# dodavanje vrednosti iznad traka\n",
    "def autolabel(rects):\n",
    "    for rect in rects:\n",
    "        height = rect.get_height()\n",
    "        gb.annotate('{}'.format(height),\n",
    "                    xy = (rect.get_x() + rect.get_width() / 2, height),\n",
    "                    xytext = (0, 3),  # 3 poena iznad trake\n",
    "                    textcoords = \"offset points\",\n",
    "                    ha = 'center', va = 'bottom')\n",
    "\n",
    "autolabel(rects1)\n",
    "autolabel(rects2)\n",
    "\n",
    "\n",
    "fig.tight_layout()\n",
    "plt.show()"
   ]
  },
  {
   "cell_type": "code",
   "execution_count": null,
   "id": "32246f3b",
   "metadata": {},
   "outputs": [],
   "source": []
  },
  {
   "cell_type": "code",
   "execution_count": null,
   "id": "d9fc1db7",
   "metadata": {},
   "outputs": [],
   "source": []
  },
  {
   "cell_type": "code",
   "execution_count": null,
   "id": "dfd1491f",
   "metadata": {},
   "outputs": [],
   "source": []
  },
  {
   "cell_type": "code",
   "execution_count": null,
   "id": "bfdf380a",
   "metadata": {},
   "outputs": [],
   "source": []
  },
  {
   "cell_type": "code",
   "execution_count": null,
   "id": "ef39e35c",
   "metadata": {},
   "outputs": [],
   "source": []
  },
  {
   "cell_type": "code",
   "execution_count": null,
   "id": "7d8015da",
   "metadata": {},
   "outputs": [],
   "source": []
  },
  {
   "cell_type": "code",
   "execution_count": null,
   "id": "1a8f279a",
   "metadata": {},
   "outputs": [],
   "source": []
  },
  {
   "cell_type": "code",
   "execution_count": null,
   "id": "462cc555",
   "metadata": {},
   "outputs": [],
   "source": []
  },
  {
   "cell_type": "code",
   "execution_count": null,
   "id": "c7185fc6",
   "metadata": {},
   "outputs": [],
   "source": [
    "print(data.prefer.value_counts())\n",
    "print()\n",
    "\n",
    "plt.pie(data['prefer'].value_counts(), labels=data['prefer'].value_counts().index, autopct='%1.1f%%')\n",
    "# plt.title('Preference for Attendance Mode')\n",
    "plt.show()"
   ]
  },
  {
   "cell_type": "code",
   "execution_count": null,
   "id": "ee2cc6c3",
   "metadata": {},
   "outputs": [],
   "source": []
  }
 ],
 "metadata": {
  "kernelspec": {
   "display_name": "Python 3 (ipykernel)",
   "language": "python",
   "name": "python3"
  },
  "language_info": {
   "codemirror_mode": {
    "name": "ipython",
    "version": 3
   },
   "file_extension": ".py",
   "mimetype": "text/x-python",
   "name": "python",
   "nbconvert_exporter": "python",
   "pygments_lexer": "ipython3",
   "version": "3.10.6"
  }
 },
 "nbformat": 4,
 "nbformat_minor": 5
}
